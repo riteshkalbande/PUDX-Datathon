{
 "cells": [
  {
   "cell_type": "markdown",
   "metadata": {},
   "source": [
    "\n",
    "# Spatial interpolation of the given test points"
   ]
  },
  {
   "cell_type": "code",
   "execution_count": 88,
   "metadata": {},
   "outputs": [],
   "source": []
  },
  {
   "cell_type": "code",
   "execution_count": 89,
   "metadata": {},
   "outputs": [],
   "source": [
    "import xlrd\n",
    "from folium import plugins\n",
    "import geojsoncontour\n",
    "import scipy as sp\n",
    "import scipy.ndimage\n",
    "import scipy as sp\n",
    "from scipy.interpolate import griddata\n",
    "import matplotlib.pyplot as plt\n",
    "import numpy as np\n",
    "import matplotlib.pyplot as plt\n",
    "from datetime import datetime\n",
    "import matplotlib.dates\n",
    "import folium\n",
    "from scipy.interpolate import Rbf\n",
    "import xarray as xr\n",
    "import pandas as pd\n",
    "import numpy as np"
   ]
  },
  {
   "cell_type": "code",
   "execution_count": 282,
   "metadata": {},
   "outputs": [],
   "source": [
    "aa = pd.read_csv('C:/Users/IITM/Desktop/Datathon/Sample output/POLLUTION_TEST_POINTS.csv')"
   ]
  },
  {
   "cell_type": "code",
   "execution_count": 313,
   "metadata": {},
   "outputs": [],
   "source": []
  },
  {
   "cell_type": "raw",
   "metadata": {},
   "source": [
    "z  = pd.DataFrame([])\n",
    "\n",
    "lat_req = aa['Latitude'][0]\n",
    "lon_req = aa['Longitude'][0]\n",
    "\n",
    "\n",
    "dd = pd.to_datetime(aa['StartDateTime'][0])\n",
    "ff = pd.to_datetime(aa['EndDateTime'][0])\n",
    "\n",
    "st = pd.to_datetime(dd.strftime('%Y-%m-%d %H:%M:%S'))\n",
    "en = pd.to_datetime(ff.strftime('%Y-%m-%d %H:%M:%S'))\n",
    "\n",
    "file_name =  pd.read_excel(\"C:\\\\Users\\IITM\\Desktop\\Datathon\\Final\\LatsLons1.xlsx\")\n",
    "\n",
    "for i in range(0,35):\n",
    "   \n",
    "    lats = file_name['Latitude'][i]\n",
    "    lons = file_name['Longitude'][i]\n",
    "\n",
    "    stations = file_name['Stations'][i]\n",
    "\n",
    "    try:\n",
    "        gg = pd.read_csv(\"C:/Users/IITM/Desktop/Datathon/Final/\"+ stations +\".txt\",'\\t')\n",
    "    except:\n",
    "        gg = pd.read_csv(\"C:/Users/IITM/Desktop/Datathon/Final/\"+ stations +\".csv\",'\\t')\n",
    "\n",
    "    ff = pd.date_range('2019-04-01 00:00:00','2019-10-30 00:00:00',freq='1H')\n",
    "\n",
    "    gg = gg.iloc[0:len(ff),:]\n",
    "\n",
    "    gg.index = ff\n",
    "\n",
    "    gg_req = gg[(gg.index >= st) & (gg.index <= en)]\n",
    "    #print(gg_req)\n",
    "\n",
    "    fff = gg_req.iloc[-1,4:6]\n",
    "    print(i,stations,fff,lats)\n",
    "    \n",
    "    try:\n",
    "        cc = pd.DataFrame({'Datetime':[en],'pm2max':[fff['PM2MAX']],'pm2min':[fff['PM2MIN']],\n",
    "                       'name':[stations],'lat':[lats],'lons':[lons]})\n",
    "    except:\n",
    "        cc = pd.DataFrame({'Datetime':[en],'pm2max':[fff['PM2_MAX']],'pm2min':[fff['PM2_MIN']],\n",
    "                       'name':[stations],'lat':[lats],'lons':[lons]})\n",
    "    z = z.append(cc)"
   ]
  },
  {
   "cell_type": "code",
   "execution_count": null,
   "metadata": {},
   "outputs": [],
   "source": []
  },
  {
   "cell_type": "raw",
   "metadata": {},
   "source": [
    "zs = z[['pm2max']]\n",
    "c1 = z.lat.values\n",
    "c2 = z.lons.values\n",
    "\n",
    "x_orig = c2\n",
    "y_orig = c1\n",
    "\n",
    "geomap = folium.Map([y_orig.mean(), x_orig.mean()], zoom_start=13, tiles=\"cartodbpositron\")\n",
    "\n",
    "# Make lat and lon linspace\n",
    "y_arr = np.linspace(np.min(y_orig), np.max(y_orig), 100)\n",
    "x_arr = np.linspace(np.min(x_orig), np.max(x_orig), 100)\n",
    "# Make mesh grid\n",
    "x_mesh, y_mesh = np.meshgrid(x_arr, y_arr)\n",
    "\n",
    "\n",
    "# Perform nearest interpolation\n",
    "z_mesh = griddata((x_orig, y_orig), zs.values, (x_mesh, y_mesh), method='nearest')\n",
    "#rbf = Rbf(x_orig, y_orig, zs, epsilon=3)\n",
    "#ZI = rbf(x_mesh, y_mesh)\n",
    "# Number of levels of colors\n",
    "levels = 20\n",
    "# Make contours of the fird value obtained in z_mesh\n",
    "contourf = plt.contourf(x_mesh, y_mesh, z_mesh[:,:,0], levels, alpha=0.5, cmap=\"bwr\", linestyles='None', vmin=0, vmax=100)\n",
    "\n",
    "# Convert matplotlib contourf to geojson\n",
    "geojson = geojsoncontour.contourf_to_geojson(\n",
    "    contourf=contourf,\n",
    "    min_angle_deg=3.0,\n",
    "    ndigits=5,\n",
    "    stroke_width=1,\n",
    "    fill_opacity=0.5)\n",
    "\n",
    "# Plot the contour plot on folium\n",
    "folium.GeoJson(\n",
    "    geojson,\n",
    "    style_function=lambda x: {\n",
    "        'color':     x['properties']['stroke'],\n",
    "        'weight':    x['properties']['stroke-width'],\n",
    "        'fillColor': x['properties']['fill'],\n",
    "        'opacity':   0.6,\n",
    "    }).add_to(geomap)\n",
    "\n",
    "# Show map\n",
    "geomap"
   ]
  },
  {
   "cell_type": "raw",
   "metadata": {},
   "source": [
    "foo = xr.DataArray(z_mesh[:,:,0], coords=[np.round(x_arr,3), np.round(y_arr,3)], dims=['lat', 'lon'])"
   ]
  },
  {
   "cell_type": "raw",
   "metadata": {},
   "source": [
    "bb = aa.iloc[0:1,:]"
   ]
  },
  {
   "cell_type": "raw",
   "metadata": {},
   "source": [
    "bb['PM2MAX'] = float(foo.sel(lat=lat_req,lon=lon_req,method='nearest').values)"
   ]
  },
  {
   "cell_type": "raw",
   "metadata": {},
   "source": [
    "bb"
   ]
  },
  {
   "cell_type": "raw",
   "metadata": {},
   "source": [
    "float(foo.sel(lat=lat_req,lon=lon_req,method='nearest').values)"
   ]
  },
  {
   "cell_type": "code",
   "execution_count": 332,
   "metadata": {},
   "outputs": [],
   "source": [
    "#==========================================="
   ]
  },
  {
   "cell_type": "code",
   "execution_count": 389,
   "metadata": {},
   "outputs": [
    {
     "name": "stdout",
     "output_type": "stream",
     "text": [
      "0\n"
     ]
    },
    {
     "name": "stderr",
     "output_type": "stream",
     "text": [
      "c:\\users\\iitm\\appdata\\local\\programs\\python\\python37\\lib\\site-packages\\ipykernel_launcher.py:101: SettingWithCopyWarning: \n",
      "A value is trying to be set on a copy of a slice from a DataFrame.\n",
      "Try using .loc[row_indexer,col_indexer] = value instead\n",
      "\n",
      "See the caveats in the documentation: http://pandas.pydata.org/pandas-docs/stable/indexing.html#indexing-view-versus-copy\n"
     ]
    },
    {
     "name": "stdout",
     "output_type": "stream",
     "text": [
      "1\n",
      "2\n",
      "3\n",
      "4\n"
     ]
    },
    {
     "name": "stderr",
     "output_type": "stream",
     "text": [
      "c:\\users\\iitm\\appdata\\local\\programs\\python\\python37\\lib\\site-packages\\geojsoncontour\\utilities\\multipoly.py:33: RuntimeWarning: invalid value encountered in true_divide\n",
      "  return vector / np.linalg.norm(vector)\n"
     ]
    },
    {
     "name": "stdout",
     "output_type": "stream",
     "text": [
      "5\n",
      "6\n",
      "7\n",
      "8\n",
      "9\n",
      "10\n",
      "11\n",
      "12\n",
      "13\n",
      "14\n",
      "15\n",
      "16\n",
      "17\n",
      "18\n",
      "19\n",
      "20\n",
      "21\n",
      "22\n",
      "23\n",
      "24\n",
      "25\n",
      "26\n",
      "27\n",
      "28\n",
      "29\n",
      "30\n",
      "31\n",
      "32\n",
      "33\n",
      "34\n",
      "35\n",
      "36\n",
      "37\n",
      "38\n",
      "39\n",
      "40\n",
      "41\n",
      "42\n",
      "43\n",
      "44\n",
      "45\n",
      "46\n",
      "47\n",
      "48\n",
      "49\n"
     ]
    },
    {
     "data": {
      "image/png": "[encoded data removed]",
      "text/plain": [
       "<Figure size 432x288 with 1 Axes>"
      ]
     },
     "metadata": {
      "needs_background": "light"
     },
     "output_type": "display_data"
    }
   ],
   "source": [
    "\n",
    "zz = pd.DataFrame([])\n",
    "\n",
    "for iii in range(0,50):\n",
    "    \n",
    "    print(iii)\n",
    "    lat_req = aa['Latitude'][iii]\n",
    "    lon_req = aa['Longitude'][iii]\n",
    "\n",
    "\n",
    "    dd = pd.to_datetime(aa['StartDateTime'][iii])\n",
    "    ff = pd.to_datetime(aa['EndDateTime'][iii])\n",
    "\n",
    "    st = pd.to_datetime(dd.strftime('%Y-%m-%d %H:%M:%S'))\n",
    "    en = pd.to_datetime(ff.strftime('%Y-%m-%d %H:%M:%S'))\n",
    "\n",
    "    file_name =  pd.read_excel(\"C:\\\\Users\\IITM\\Desktop\\Datathon\\Final\\LatsLons1.xlsx\")\n",
    "    z  = pd.DataFrame([])\n",
    "    for i in range(0,35):\n",
    "\n",
    "        lats = file_name['Latitude'][i]\n",
    "        lons = file_name['Longitude'][i]\n",
    "\n",
    "        stations = file_name['Stations'][i]\n",
    "\n",
    "        try:\n",
    "            gg = pd.read_csv(\"C:/Users/IITM/Desktop/Datathon/Final/\"+ stations +\".txt\",'\\t')\n",
    "        except:\n",
    "            gg = pd.read_csv(\"C:/Users/IITM/Desktop/Datathon/Final/\"+ stations +\".csv\",'\\t')\n",
    "\n",
    "        ff = pd.date_range('2019-04-01 00:00:00','2019-10-30 00:00:00',freq='1H')\n",
    "\n",
    "        gg = gg.iloc[0:len(ff),:]\n",
    "\n",
    "        gg.index = ff\n",
    "\n",
    "        gg_req = gg[(gg.index >= st) & (gg.index <= en)]\n",
    "        #print(gg_req)\n",
    "\n",
    "        fff = gg_req.iloc[-1,4:6]\n",
    "        #print(i,stations,fff,lats)\n",
    "\n",
    "        try:\n",
    "            cc = pd.DataFrame({'Datetime':[en],'pm2max':[fff['PM2MAX']],'pm2min':[fff['PM2MIN']],\n",
    "                           'name':[stations],'lat':[lats],'lons':[lons]})\n",
    "        except:\n",
    "            cc = pd.DataFrame({'Datetime':[en],'pm2max':[fff['PM2_MAX']],'pm2min':[fff['PM2_MIN']],\n",
    "                           'name':[stations],'lat':[lats],'lons':[lons]})\n",
    "        z = z.append(cc)\n",
    "        #print(z['pm2max'])\n",
    "\n",
    "    zs = z[['pm2max']]\n",
    "    c1 = z.lat.values\n",
    "    c2 = z.lons.values\n",
    "\n",
    "    x_orig = c2\n",
    "    y_orig = c1\n",
    "\n",
    "    geomap = folium.Map([y_orig.mean(), x_orig.mean()], zoom_start=13, tiles=\"cartodbpositron\")\n",
    "\n",
    "        # Make lat and lon linspace\n",
    "    y_arr = np.linspace(np.min(y_orig), np.max(y_orig), 100)\n",
    "    x_arr = np.linspace(np.min(x_orig), np.max(x_orig), 100)\n",
    "        # Make mesh grid\n",
    "    x_mesh, y_mesh = np.meshgrid(x_arr, y_arr)\n",
    "\n",
    "\n",
    "        # Perform nearest interpolation\n",
    "    z_mesh = griddata((x_orig, y_orig), zs.values, (x_mesh, y_mesh), method='nearest')\n",
    "        #rbf = Rbf(x_orig, y_orig, zs, epsilon=3)\n",
    "        #ZI = rbf(x_mesh, y_mesh)\n",
    "        # Number of levels of colors\n",
    "    levels = 20\n",
    "        # Make contours of the fird value obtained in z_mesh\n",
    "    contourf = plt.contourf(x_mesh, y_mesh, z_mesh[:,:,0], levels, alpha=0.5, cmap=\"bwr\", linestyles='None', vmin=0, vmax=100)\n",
    "\n",
    "        # Convert matplotlib contourf to geojson\n",
    "    geojson = geojsoncontour.contourf_to_geojson(\n",
    "            contourf=contourf,\n",
    "            min_angle_deg=3.0,\n",
    "            ndigits=5,\n",
    "            stroke_width=1,\n",
    "            fill_opacity=0.5)\n",
    "\n",
    "        # Plot the contour plot on folium\n",
    "    folium.GeoJson(\n",
    "            geojson,\n",
    "            style_function=lambda x: {\n",
    "                'color':     x['properties']['stroke'],\n",
    "                'weight':    x['properties']['stroke-width'],\n",
    "                'fillColor': x['properties']['fill'],\n",
    "                'opacity':   0.6,\n",
    "            }).add_to(geomap)\n",
    "\n",
    "        # Show map\n",
    "    geomap\n",
    "\n",
    "    foo = xr.DataArray(z_mesh[:,:,0], coords=[np.round(x_arr,3), np.round(y_arr,3)], dims=['lat', 'lon'])\n",
    "    bb  = aa.iloc[iii:iii+1,:]\n",
    "\n",
    "    bb['PM2MAX'] = float(foo.sel(lat=lat_req,lon=lon_req,method='nearest').values)\n",
    "    zz = zz.append(bb)\n"
   ]
  },
  {
   "cell_type": "code",
   "execution_count": null,
   "metadata": {},
   "outputs": [],
   "source": []
  },
  {
   "cell_type": "code",
   "execution_count": 382,
   "metadata": {},
   "outputs": [
    {
     "name": "stdout",
     "output_type": "stream",
     "text": [
      "0\n"
     ]
    },
    {
     "name": "stderr",
     "output_type": "stream",
     "text": [
      "c:\\users\\iitm\\appdata\\local\\programs\\python\\python37\\lib\\site-packages\\ipykernel_launcher.py:106: SettingWithCopyWarning: \n",
      "A value is trying to be set on a copy of a slice from a DataFrame.\n",
      "Try using .loc[row_indexer,col_indexer] = value instead\n",
      "\n",
      "See the caveats in the documentation: http://pandas.pydata.org/pandas-docs/stable/indexing.html#indexing-view-versus-copy\n"
     ]
    },
    {
     "name": "stdout",
     "output_type": "stream",
     "text": [
      "1\n",
      "2\n",
      "3\n",
      "4\n",
      "5\n",
      "6\n",
      "7\n",
      "8\n",
      "9\n",
      "10\n",
      "11\n",
      "12\n",
      "13\n",
      "14\n",
      "15\n",
      "16\n",
      "17\n",
      "18\n",
      "19\n",
      "20\n",
      "21\n",
      "22\n",
      "23\n",
      "24\n",
      "25\n",
      "26\n",
      "27\n",
      "28\n",
      "29\n",
      "30\n",
      "31\n",
      "32\n",
      "33\n",
      "34\n",
      "35\n",
      "36\n",
      "37\n",
      "38\n",
      "39\n",
      "40\n",
      "41\n",
      "42\n",
      "43\n",
      "44\n",
      "45\n",
      "46\n",
      "47\n",
      "48\n",
      "49\n"
     ]
    },
    {
     "data": {
      "image/png": "[encoded data removed]",
      "text/plain": [
       "<Figure size 432x288 with 1 Axes>"
      ]
     },
     "metadata": {
      "needs_background": "light"
     },
     "output_type": "display_data"
    }
   ],
   "source": [
    "zzz = pd.DataFrame([])\n",
    "\n",
    "for iii in range(0,50):\n",
    "    \n",
    "    print(iii)\n",
    "    lat_req = aa['Latitude'][iii]\n",
    "    lon_req = aa['Longitude'][iii]\n",
    "\n",
    "\n",
    "    dd = pd.to_datetime(aa['StartDateTime'][iii])\n",
    "    ff = pd.to_datetime(aa['EndDateTime'][iii])\n",
    "\n",
    "    st = pd.to_datetime(dd.strftime('%Y-%m-%d %H:%M:%S'))\n",
    "    en = pd.to_datetime(ff.strftime('%Y-%m-%d %H:%M:%S'))\n",
    "\n",
    "    file_name =  pd.read_excel(\"C:\\\\Users\\IITM\\Desktop\\Datathon\\Final\\LatsLons1.xlsx\")\n",
    "    z  = pd.DataFrame([])\n",
    "    for i in range(0,35):\n",
    "\n",
    "        lats = file_name['Latitude'][i]\n",
    "        lons = file_name['Longitude'][i]\n",
    "\n",
    "        stations = file_name['Stations'][i]\n",
    "\n",
    "        try:\n",
    "            gg = pd.read_csv(\"C:/Users/IITM/Desktop/Datathon/Final/\"+ stations +\".txt\",'\\t')\n",
    "        except:\n",
    "            gg = pd.read_csv(\"C:/Users/IITM/Desktop/Datathon/Final/\"+ stations +\".csv\",'\\t')\n",
    "\n",
    "        ff = pd.date_range('2019-04-01 00:00:00','2019-10-30 00:00:00',freq='1H')\n",
    "\n",
    "        gg = gg.iloc[0:len(ff),:]\n",
    "\n",
    "        gg.index = ff\n",
    "\n",
    "        gg_req = gg[(gg.index >= st) & (gg.index <= en)]\n",
    "        #print(gg_req)\n",
    "        \n",
    "        try:\n",
    "            fff = gg_req.iloc[-2,4:6]\n",
    "        except:\n",
    "            fff = gg_req.iloc[-1,4:6]\n",
    "        #print(fff['PM2MIN'] == np.NaN)\n",
    "        \n",
    "        #print(fff)\n",
    "        #print(i,stations,fff,lats)\n",
    "\n",
    "        try:\n",
    "            cc = pd.DataFrame({'Datetime':[en],'pm2max':[fff['PM2MAX']],'pm2min':[fff['PM2MIN']],\n",
    "                           'name':[stations],'lat':[lats],'lons':[lons]})\n",
    "        except:\n",
    "            cc = pd.DataFrame({'Datetime':[en],'pm2max':[fff['PM2_MAX']],'pm2min':[fff['PM2_MIN']],\n",
    "                           'name':[stations],'lat':[lats],'lons':[lons]})\n",
    "        z = z.append(cc)\n",
    "        #print(z['pm2max'])\n",
    "\n",
    "    zs = z[['pm2min']]\n",
    "    c1 = z.lat.values\n",
    "    c2 = z.lons.values\n",
    "\n",
    "    x_orig = c2\n",
    "    y_orig = c1\n",
    "\n",
    "    geomap = folium.Map([y_orig.mean(), x_orig.mean()], zoom_start=13, tiles=\"cartodbpositron\")\n",
    "\n",
    "        # Make lat and lon linspace\n",
    "    y_arr = np.linspace(np.min(y_orig), np.max(y_orig), 100)\n",
    "    x_arr = np.linspace(np.min(x_orig), np.max(x_orig), 100)\n",
    "        # Make mesh grid\n",
    "    x_mesh, y_mesh = np.meshgrid(x_arr, y_arr)\n",
    "\n",
    "\n",
    "        # Perform nearest interpolation\n",
    "    z_mesh = griddata((x_orig, y_orig), zs.values, (x_mesh, y_mesh), method='nearest')\n",
    "        #rbf = Rbf(x_orig, y_orig, zs, epsilon=3)\n",
    "        #ZI = rbf(x_mesh, y_mesh)\n",
    "        # Number of levels of colors\n",
    "    levels = 20\n",
    "        # Make contours of the fird value obtained in z_mesh\n",
    "    contourf = plt.contourf(x_mesh, y_mesh, z_mesh[:,:,0], levels, alpha=0.5, cmap=\"bwr\", linestyles='None', vmin=0, vmax=100)\n",
    "\n",
    "        # Convert matplotlib contourf to geojson\n",
    "    geojson = geojsoncontour.contourf_to_geojson(\n",
    "            contourf=contourf,\n",
    "            min_angle_deg=3.0,\n",
    "            ndigits=5,\n",
    "            stroke_width=1,\n",
    "            fill_opacity=0.5)\n",
    "\n",
    "        # Plot the contour plot on folium\n",
    "    folium.GeoJson(\n",
    "            geojson,\n",
    "            style_function=lambda x: {\n",
    "                'color':     x['properties']['stroke'],\n",
    "                'weight':    x['properties']['stroke-width'],\n",
    "                'fillColor': x['properties']['fill'],\n",
    "                'opacity':   0.6,\n",
    "            }).add_to(geomap)\n",
    "\n",
    "        # Show map\n",
    "    geomap\n",
    "\n",
    "    foo = xr.DataArray(z_mesh[:,:,0], coords=[np.round(x_arr,3), np.round(y_arr,3)], dims=['lat', 'lon'])\n",
    "    bd  = aa.iloc[iii:iii+1,:]\n",
    "\n",
    "    bd['PM2MIN'] = float(foo.sel(lat=lat_req,lon=lon_req,method='nearest').values)\n",
    "    zzz = zzz.append(bd)\n"
   ]
  },
  {
   "cell_type": "code",
   "execution_count": 384,
   "metadata": {},
   "outputs": [],
   "source": [
    "out_result = zz"
   ]
  },
  {
   "cell_type": "code",
   "execution_count": 385,
   "metadata": {},
   "outputs": [],
   "source": [
    "out_result['PM2MIN'] = zzz['PM2MIN']"
   ]
  },
  {
   "cell_type": "code",
   "execution_count": 388,
   "metadata": {},
   "outputs": [],
   "source": [
    "out_result.to_csv('C:/Users/IITM/Desktop/Datathon/Sample output/out_result.csv')"
   ]
  },
  {
   "cell_type": "code",
   "execution_count": 291,
   "metadata": {},
   "outputs": [],
   "source": [
    "#================================="
   ]
  },
  {
   "cell_type": "raw",
   "metadata": {},
   "source": [
    "file_name =  \"C:\\\\Users\\IITM\\Desktop\\Datathon\\Complete\\LatsLons.xlsx\"\n",
    "sheet     =  \"Sheet1\"\n",
    "\n",
    "import pandas as pd\n",
    "df = pd.read_excel(io=file_name, sheet_name=sheet)\n",
    "print(df.head(12))  # print first 5 rows of the dataframe"
   ]
  },
  {
   "cell_type": "raw",
   "metadata": {},
   "source": [
    "a=df[['PM2MAX','PM2MIN','Latitude','Longitude']]"
   ]
  },
  {
   "cell_type": "raw",
   "metadata": {},
   "source": [
    "b1=df.PM2MAX.values"
   ]
  },
  {
   "cell_type": "raw",
   "metadata": {},
   "source": [
    "b2=df.PM2MIN.values"
   ]
  },
  {
   "cell_type": "raw",
   "metadata": {},
   "source": [
    "c1=df.Latitude.values"
   ]
  },
  {
   "cell_type": "raw",
   "metadata": {},
   "source": [
    "c2=df.Longitude.values"
   ]
  },
  {
   "cell_type": "raw",
   "metadata": {
    "scrolled": true
   },
   "source": [
    "import sklearn"
   ]
  },
  {
   "cell_type": "raw",
   "metadata": {},
   "source": [
    "df.groupby([c1,c2])"
   ]
  },
  {
   "cell_type": "raw",
   "metadata": {},
   "source": [
    "l"
   ]
  },
  {
   "cell_type": "raw",
   "metadata": {},
   "source": [
    "x_orig=c2"
   ]
  },
  {
   "cell_type": "raw",
   "metadata": {},
   "source": [
    "y_orig=c1"
   ]
  },
  {
   "cell_type": "raw",
   "metadata": {},
   "source": [
    "zs=b1"
   ]
  },
  {
   "cell_type": "raw",
   "metadata": {},
   "source": [
    "zs"
   ]
  },
  {
   "cell_type": "raw",
   "metadata": {
    "scrolled": true
   },
   "source": [
    "pip install geojsoncontour"
   ]
  },
  {
   "cell_type": "raw",
   "metadata": {},
   "source": [
    "from folium import plugins\n",
    "import geojsoncontour\n",
    "import scipy as sp\n",
    "import scipy.ndimage\n",
    "import scipy as sp\n",
    "from scipy.interpolate import griddata\n",
    "import matplotlib.pyplot as plt\n",
    "import numpy as np\n",
    "import matplotlib.pyplot as plt\n",
    "from datetime import datetime\n",
    "import matplotlib.dates\n",
    "import folium\n",
    "from scipy.interpolate import Rbf\n",
    "geomap = folium.Map([y_orig.mean(), x_orig.mean()], zoom_start=13, tiles=\"cartodbpositron\")"
   ]
  },
  {
   "cell_type": "raw",
   "metadata": {},
   "source": [
    "# Make lat and lon linspace\n",
    "y_arr = np.linspace(np.min(y_orig), np.max(y_orig), 100)\n",
    "x_arr = np.linspace(np.min(x_orig), np.max(x_orig), 100)\n",
    "# Make mesh grid\n",
    "x_mesh, y_mesh = np.meshgrid(x_arr, y_arr)\n",
    "\n",
    "\n",
    "# Perform nearest interpolation\n",
    "z_mesh = griddata((x_orig, y_orig), zs, (x_mesh, y_mesh), method='nearest')\n",
    "#rbf = Rbf(x_orig, y_orig, zs, epsilon=3)\n",
    "#ZI = rbf(x_mesh, y_mesh)\n",
    "# Number of levels of colors\n",
    "levels = 20\n",
    "# Make contours of the fird value obtained in z_mesh\n",
    "contourf = plt.contourf(x_mesh, y_mesh, z_mesh, levels, alpha=0.5, cmap=\"bwr\", linestyles='None', vmin=0, vmax=100)\n",
    "\n",
    "# Convert matplotlib contourf to geojson\n",
    "geojson = geojsoncontour.contourf_to_geojson(\n",
    "    contourf=contourf,\n",
    "    min_angle_deg=3.0,\n",
    "    ndigits=5,\n",
    "    stroke_width=1,\n",
    "    fill_opacity=0.5)\n",
    "\n",
    "# Plot the contour plot on folium\n",
    "folium.GeoJson(\n",
    "    geojson,\n",
    "    style_function=lambda x: {\n",
    "        'color':     x['properties']['stroke'],\n",
    "        'weight':    x['properties']['stroke-width'],\n",
    "        'fillColor': x['properties']['fill'],\n",
    "        'opacity':   0.6,\n",
    "    }).add_to(geomap)\n",
    "\n",
    "# Show map\n",
    "geomap"
   ]
  },
  {
   "cell_type": "raw",
   "metadata": {},
   "source": []
  },
  {
   "cell_type": "raw",
   "metadata": {},
   "source": [
    "foo = xr.DataArray(z_mesh, coords=[np.round(x_arr,3), np.round(y_arr,3)], dims=['lat', 'lon'])"
   ]
  },
  {
   "cell_type": "raw",
   "metadata": {},
   "source": [
    "foo.sel(lat=slice(18.45, 18.46),lon=slice(73.75,73.77))"
   ]
  },
  {
   "cell_type": "raw",
   "metadata": {},
   "source": [
    "foo.sel(lat=18.498,lon=73.858,method='nearest')"
   ]
  },
  {
   "cell_type": "raw",
   "metadata": {},
   "source": [
    "data = np.random.rand(4, 3)\n",
    "\n",
    "locs = ['IA', 'IL', 'IN']\n",
    "times = pd.date_range('2000-01-01', periods=4)\n",
    "foo = xr.DataArray(data, coords=[times, locs], dims=['time', 'space'])\n",
    "foo"
   ]
  },
  {
   "cell_type": "raw",
   "metadata": {},
   "source": [
    "foo[:,1]"
   ]
  },
  {
   "cell_type": "raw",
   "metadata": {},
   "source": []
  }
 ],
 "metadata": {
  "kernelspec": {
   "display_name": "Python 3",
   "language": "python",
   "name": "python3"
  },
  "language_info": {
   "codemirror_mode": {
    "name": "ipython",
    "version": 3
   },
   "file_extension": ".py",
   "mimetype": "text/x-python",
   "name": "python",
   "nbconvert_exporter": "python",
   "pygments_lexer": "ipython3",
   "version": "3.7.3"
  }
 },
 "nbformat": 4,
 "nbformat_minor": 2
}
